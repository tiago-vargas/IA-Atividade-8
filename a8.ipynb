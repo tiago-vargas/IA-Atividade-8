{
 "cells": [
  {
   "cell_type": "markdown",
   "metadata": {},
   "source": [
    "# Equipe\n",
    "\n",
    "Tiago Vargas Pereira de Oliveira\n",
    "\n",
    "Vinicius Peixoto Chagas"
   ]
  },
  {
   "cell_type": "code",
   "execution_count": 1,
   "metadata": {},
   "outputs": [],
   "source": [
    "from fun import *\n"
   ]
  },
  {
   "cell_type": "markdown",
   "metadata": {},
   "source": [
    "# Q1\n",
    "\n",
    "**Implemente o modelo do neurônio de M-P calcule o valor de “y”, sabendo que a função de ativação é a limiar sendo $g(.) > 0$ pertence a classe “A”, caso contrário “classe B”.**\n",
    "\n",
    "**Tendo como valores de entradas $x_1= 10$, $x_2= -20$, $x_3= -8$ e $x_4= 2$, e os pesos são: $w_1= 0.02$, $w_2= -0.2$, $w_3= 0.03$ e  $w_4= -0.09$.**\n",
    "\n",
    "**Importante lembrar que $θ = w_0 = -1$.**"
   ]
  },
  {
   "cell_type": "code",
   "execution_count": 2,
   "metadata": {},
   "outputs": [],
   "source": [
    "w = [0.02, -0.2, 0.03, -0.09]\n",
    "neuron = MP(weights=w, bias=-1)\n"
   ]
  },
  {
   "cell_type": "code",
   "execution_count": 3,
   "metadata": {},
   "outputs": [
    {
     "data": {
      "text/plain": [
       "'A'"
      ]
     },
     "execution_count": 3,
     "metadata": {},
     "output_type": "execute_result"
    }
   ],
   "source": [
    "x: list[float] = [10, -20, -8, 2]\n",
    "g = lambda y: 'A' if y > 0 else 'B'\n",
    "\n",
    "neuron.classify(inputs=x, classifier=g)\n"
   ]
  },
  {
   "cell_type": "markdown",
   "metadata": {},
   "source": [
    "# Q2\n",
    "\n",
    "**Implemente a perceptron simples para resolver o problema da porta \"NAND\" considerando 2 entradas.**"
   ]
  },
  {
   "cell_type": "code",
   "execution_count": 4,
   "metadata": {},
   "outputs": [
    {
     "name": "stdout",
     "output_type": "stream",
     "text": [
      "Entradas: (0, 0) Previsão: 0\n",
      "Entradas: (0, 1) Previsão: 1\n",
      "Entradas: (1, 0) Previsão: 1\n",
      "Entradas: (1, 1) Previsão: 1\n"
     ]
    }
   ],
   "source": [
    "x = [(0, 0), (0, 1), (1, 0), (1, 1)]\n",
    "nor_classifier = lambda y: 0 if y <= 0 else 1\n",
    "\n",
    "perceptron_nand = Perceptron(n=2, bias=-0.1)\n",
    "\n",
    "for inputs in x:\n",
    "\tprediction = perceptron_nand.classify(inputs, nor_classifier)\n",
    "\tprint(\"Entradas:\",inputs, \"Previsão:\", prediction)\n"
   ]
  },
  {
   "cell_type": "markdown",
   "metadata": {},
   "source": [
    "# Q3\n",
    "\n",
    "**Implemente a perceptron simples para resolver o problema da porta \"NOR\" considerando 2 entradas.**"
   ]
  },
  {
   "cell_type": "code",
   "execution_count": 5,
   "metadata": {},
   "outputs": [
    {
     "name": "stdout",
     "output_type": "stream",
     "text": [
      "Entradas: (0, 0) Previsão: 1\n",
      "Entradas: (0, 1) Previsão: 0\n",
      "Entradas: (1, 0) Previsão: 0\n",
      "Entradas: (1, 1) Previsão: 0\n"
     ]
    }
   ],
   "source": [
    "x = [(0, 0), (0, 1), (1, 0), (1, 1)]\n",
    "nor_classifier = lambda y: 0 if y >= 0 else 1\n",
    "\n",
    "perceptron_nor = Perceptron(n=2, bias=-0.1)\n",
    "\n",
    "for inputs in x:\n",
    "\tprediction = perceptron_nor.classify(inputs, nor_classifier)\n",
    "\tprint(\"Entradas:\",inputs, \"Previsão:\", prediction)\n"
   ]
  },
  {
   "cell_type": "markdown",
   "metadata": {},
   "source": [
    "# Q4\n",
    "\n",
    "**Implemente a perceptron simples para resolver o problema da porta \"OR\" considerando 3 entradas.**"
   ]
  },
  {
   "cell_type": "code",
   "execution_count": 6,
   "metadata": {},
   "outputs": [
    {
     "name": "stdout",
     "output_type": "stream",
     "text": [
      "Entradas: (0, 0, 0) Previsão: 0\n",
      "Entradas: (0, 0, 1) Previsão: 1\n",
      "Entradas: (0, 1, 0) Previsão: 1\n",
      "Entradas: (0, 1, 1) Previsão: 1\n",
      "Entradas: (1, 0, 0) Previsão: 1\n",
      "Entradas: (1, 0, 1) Previsão: 1\n",
      "Entradas: (1, 1, 0) Previsão: 1\n",
      "Entradas: (1, 1, 1) Previsão: 1\n"
     ]
    }
   ],
   "source": [
    "x = [(0, 0, 0), (0, 0, 1), (0, 1, 0), (0, 1, 1), (1, 0, 0), (1, 0, 1), (1, 1, 0), (1, 1, 1)]\n",
    "or_classifier = lambda y: 0 if y <= 0 else 1\n",
    "\n",
    "perceptron_or = Perceptron(n=3, bias=-0.1)\n",
    "\n",
    "for inputs in x:\n",
    "\tprediction = perceptron_or.classify(inputs, or_classifier)\n",
    "\tprint(\"Entradas:\", inputs, \"Previsão:\", prediction)\n"
   ]
  }
 ],
 "metadata": {
  "kernelspec": {
   "display_name": ".venv",
   "language": "python",
   "name": "python3"
  },
  "language_info": {
   "codemirror_mode": {
    "name": "ipython",
    "version": 3
   },
   "file_extension": ".py",
   "mimetype": "text/x-python",
   "name": "python",
   "nbconvert_exporter": "python",
   "pygments_lexer": "ipython3",
   "version": "3.11.4"
  }
 },
 "nbformat": 4,
 "nbformat_minor": 2
}
