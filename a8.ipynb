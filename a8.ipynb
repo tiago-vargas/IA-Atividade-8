{
 "cells": [
  {
   "cell_type": "markdown",
   "metadata": {},
   "source": [
    "# Equipe\n",
    "\n",
    "Tiago Vargas Pereira de Oliveira\n",
    "\n",
    "Vinicius P."
   ]
  },
  {
   "cell_type": "markdown",
   "metadata": {},
   "source": [
    "# Q1\n",
    "\n",
    "**Implemente o modelo do neurônio de M-P calcule o valor de “y”, sabendo que a função de ativação é a limiar sendo $g(.) > 0$ pertence a classe “A”, caso contrário “classe B”.**\n",
    "\n",
    "**Tendo como valores de entradas $x_1= 10$, $x_2= -20$, $x_3= -8$ e $x_4= 2$, e os pesos são: $w_1= 0.02$, $w_2= -0.2$, $w_3= 0.03$ e  $w_4= -0.09$.**\n",
    "\n",
    "**Importante lembrar que $θ = w_0 = -1$.**"
   ]
  },
  {
   "cell_type": "markdown",
   "metadata": {},
   "source": [
    "# Q2\n",
    "\n",
    "**Implemente a perceptron simples para resolver o problema da porta \"NAND\" considerando 2 entradas.**"
   ]
  },
  {
   "cell_type": "markdown",
   "metadata": {},
   "source": [
    "# Q3\n",
    "\n",
    "**Implemente a perceptron simples para resolver o problema da porta \"NOR\" considerando 2 entradas.**"
   ]
  },
  {
   "cell_type": "markdown",
   "metadata": {},
   "source": [
    "# Q4\n",
    "\n",
    "**Implemente a perceptron simples para resolver o problema da porta \"OR\" considerando 3 entradas.**"
   ]
  }
 ],
 "metadata": {
  "kernelspec": {
   "display_name": ".venv",
   "language": "python",
   "name": "python3"
  },
  "language_info": {
   "name": "python",
   "version": "3.11.4"
  }
 },
 "nbformat": 4,
 "nbformat_minor": 2
}
